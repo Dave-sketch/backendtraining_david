{
  "cells": [
    {
      "cell_type": "markdown",
      "metadata": {
        "id": "view-in-github",
        "colab_type": "text"
      },
      "source": [
        "<a href=\"https://colab.research.google.com/github/Dave-sketch/backendtraining_david/blob/main/magic_example.ipynb\" target=\"_parent\"><img src=\"https://colab.research.google.com/assets/colab-badge.svg\" alt=\"Open In Colab\"/></a>"
      ]
    },
    {
      "cell_type": "markdown",
      "metadata": {
        "id": "kQA6aKv_6Rov"
      },
      "source": [
        "importing libraries"
      ]
    },
    {
      "cell_type": "code",
      "execution_count": null,
      "metadata": {
        "id": "Eu8JI4re6Roy"
      },
      "outputs": [],
      "source": [
        "import numpy as np\n",
        "import pandas as pd\n",
        "import matplotlib as plt"
      ]
    },
    {
      "cell_type": "markdown",
      "metadata": {
        "id": "rsL_wWmf6Roz"
      },
      "source": [
        "assigning the various label to the columns\n",
        "import dataset"
      ]
    },
    {
      "cell_type": "code",
      "execution_count": null,
      "metadata": {
        "id": "lBk1hBY26Ro0"
      },
      "outputs": [],
      "source": [
        "cols = [\"fLength\",\"fwidth\",\"fsize\",\"fconc\",\"fconc1\",\"fAsym\",\"fM3Long\",\"fM3Trans\",\"fAlpha\",\"fDist\",\"class\"]\n",
        "df = pd.read_csv(\"magic04.data\",names = cols)\n",
        "df.head() #arrange dataset"
      ]
    },
    {
      "cell_type": "markdown",
      "metadata": {
        "id": "0tXI9rv56Ro1"
      },
      "source": [
        "change \"class\" to a binary ( 1, 0)"
      ]
    },
    {
      "cell_type": "code",
      "execution_count": null,
      "metadata": {
        "id": "WnR6Jb836Ro1"
      },
      "outputs": [],
      "source": [
        "df[\"class\"] = (df[\"class\"] == \"g\") .astype(int)"
      ]
    },
    {
      "cell_type": "markdown",
      "metadata": {
        "id": "NNJFyhfe6Ro2"
      },
      "source": [
        "use for loop\n",
        "visualize the data"
      ]
    },
    {
      "cell_type": "code",
      "execution_count": null,
      "metadata": {
        "id": "AuPKZ9Q-6Ro2"
      },
      "outputs": [],
      "source": [
        "for label in cols[-1]:\n",
        "    plt.hist(df[df[\"class\"] == 1][label], label = \"gamma\" , density = True ,alpha = 0.7 )\n",
        "    plt.hist(df[df[\"class\"] == 0][label], label = \"hadron\" , density = True ,alpha = 0.7 )\n",
        "    plt.title(label)\n",
        "    plt.xlabel( label)\n",
        "    plt.ylabel( \"probability\")\n",
        "    plt.legend()\n",
        "    plt.show()"
      ]
    },
    {
      "cell_type": "markdown",
      "metadata": {
        "id": "ytAFab2U6Ro3"
      },
      "source": [
        "train, validation, test"
      ]
    },
    {
      "cell_type": "code",
      "execution_count": null,
      "metadata": {
        "id": "c2twWsCP6Ro3"
      },
      "outputs": [],
      "source": [
        "train,valid,test = "
      ]
    }
  ],
  "metadata": {
    "kernelspec": {
      "display_name": "Python 3",
      "language": "python",
      "name": "python3"
    },
    "language_info": {
      "codemirror_mode": {
        "name": "ipython",
        "version": 3
      },
      "file_extension": ".py",
      "mimetype": "text/x-python",
      "name": "python",
      "nbconvert_exporter": "python",
      "pygments_lexer": "ipython3",
      "version": "3.7.3"
    },
    "colab": {
      "provenance": [],
      "include_colab_link": true
    }
  },
  "nbformat": 4,
  "nbformat_minor": 0
}